{
 "cells": [
  {
   "cell_type": "markdown",
   "metadata": {},
   "source": [
    "## The Python REPL\n",
    "\n",
    "Python supports an interactive console experience, which allows you to type in commands and see the results immediately. This experience is sometimes referred to as a \"Read-Eval-Print-Loop\", or REPL."
   ]
  }
 ],
 "metadata": {
  "language_info": {
   "name": "python"
  }
 },
 "nbformat": 4,
 "nbformat_minor": 2
}
