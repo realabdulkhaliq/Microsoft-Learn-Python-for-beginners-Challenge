{
 "cells": [
  {
   "cell_type": "markdown",
   "metadata": {},
   "source": [
    "Time Calculation"
   ]
  },
  {
   "cell_type": "code",
   "execution_count": 2,
   "metadata": {},
   "outputs": [
    {
     "name": "stdout",
     "output_type": "stream",
     "text": [
      "There are 17 minutes and 22 seconds in 1042\n"
     ]
    }
   ],
   "source": [
    "seconds = 1042\n",
    "display_minutes = 1042 // 60\n",
    "display_seconds = 1042 % 60\n",
    "\n",
    "print(f\"There are {display_minutes} minutes and {display_seconds} seconds in {seconds}\")"
   ]
  },
  {
   "cell_type": "markdown",
   "metadata": {},
   "source": [
    "Let's explore how we can create a program that can calculate the distance between two planets. We'll start by using two planet distances: Earth (149,597,870 km) and Jupiter (778,547,200 km)."
   ]
  },
  {
   "cell_type": "markdown",
   "metadata": {},
   "source": [
    "\n",
    "Planet\t| Distance from sun\n",
    "------- |  --------\n",
    "Mercury\t| 57900000\n",
    "Venus\t| 108200000\n",
    "Earth\t| 149600000\n",
    "Mars\t| 227900000\n",
    "Jupiter\t| 778600000\n",
    "Saturn\t| 1433500000\n",
    "Uranus\t| 2872500000\n",
    "Neptune\t| 4495100000"
   ]
  },
  {
   "cell_type": "code",
   "execution_count": 3,
   "metadata": {},
   "outputs": [
    {
     "name": "stdout",
     "output_type": "stream",
     "text": [
      "628949330\n",
      "390810995.0389724\n"
     ]
    }
   ],
   "source": [
    "first_planet = 149_597_870\n",
    "second_planet = 778_547_200\n",
    "\n",
    "distance_km = second_planet - first_planet\n",
    "print(distance_km)\n",
    "\n",
    "distance_mi = distance_km / 1.609344\n",
    "print(distance_mi)"
   ]
  },
  {
   "cell_type": "markdown",
   "metadata": {},
   "source": [
    "Convert strings to numbers"
   ]
  },
  {
   "cell_type": "code",
   "execution_count": 4,
   "metadata": {},
   "outputs": [
    {
     "name": "stdout",
     "output_type": "stream",
     "text": [
      "215\n",
      "215.3\n"
     ]
    }
   ],
   "source": [
    "demo_int = int('215')\n",
    "print(demo_int)\n",
    "\n",
    "demo_float = float('215.3')\n",
    "print(demo_float)"
   ]
  },
  {
   "cell_type": "markdown",
   "metadata": {},
   "source": [
    "Absolute values"
   ]
  },
  {
   "cell_type": "code",
   "execution_count": 5,
   "metadata": {},
   "outputs": [
    {
     "name": "stdout",
     "output_type": "stream",
     "text": [
      "23\n",
      "23\n"
     ]
    }
   ],
   "source": [
    "print(abs(39 - 16))\n",
    "print(abs(16 - 39))"
   ]
  },
  {
   "cell_type": "markdown",
   "metadata": {},
   "source": [
    "Rounding\n",
    "\n",
    "The built-in Python function called round is also helpful. Use it to round up to the nearest integer if the decimal value is greater than .5, or down if it's less than .5. If the decimal value is equal to .5, the function rounds up or down to the nearest even integer."
   ]
  },
  {
   "cell_type": "code",
   "execution_count": 6,
   "metadata": {},
   "outputs": [
    {
     "name": "stdout",
     "output_type": "stream",
     "text": [
      "1\n",
      "2\n",
      "2\n",
      "3\n"
     ]
    }
   ],
   "source": [
    "print(round(1.4))\n",
    "print(round(1.5))\n",
    "print(round(2.5))\n",
    "print(round(2.6))"
   ]
  },
  {
   "cell_type": "markdown",
   "metadata": {},
   "source": [
    "Math library"
   ]
  },
  {
   "cell_type": "code",
   "execution_count": 7,
   "metadata": {},
   "outputs": [
    {
     "name": "stdout",
     "output_type": "stream",
     "text": [
      "13\n",
      "12\n"
     ]
    }
   ],
   "source": [
    "from math import ceil, floor\n",
    "\n",
    "round_up = ceil(12.5)\n",
    "print(round_up)\n",
    "\n",
    "round_down = floor(12.5)\n",
    "print(round_down)"
   ]
  },
  {
   "cell_type": "markdown",
   "metadata": {},
   "source": [
    "## List"
   ]
  },
  {
   "cell_type": "code",
   "execution_count": 12,
   "metadata": {},
   "outputs": [],
   "source": [
    "planets = [\"Mercury\", \"Venus\", \"Earth\", \"Mars\", \"Jupiter\", \"Saturn\", \"Uranus\", \"Neptune\", \"Pluto\"]"
   ]
  },
  {
   "cell_type": "code",
   "execution_count": 13,
   "metadata": {},
   "outputs": [
    {
     "name": "stdout",
     "output_type": "stream",
     "text": [
      "There are 9 planets in the solar system.\n"
     ]
    }
   ],
   "source": [
    "number_of_planets = len(planets)\n",
    "print(\"There are\", number_of_planets, \"planets in the solar system.\")"
   ]
  },
  {
   "cell_type": "code",
   "execution_count": 14,
   "metadata": {},
   "outputs": [
    {
     "name": "stdout",
     "output_type": "stream",
     "text": [
      "Jupiter is the 5 planet from the sun\n"
     ]
    }
   ],
   "source": [
    "jupiter_index = planets.index(\"Jupiter\")\n",
    "print(\"Jupiter is the\", jupiter_index + 1, \"planet from the sun\")"
   ]
  },
  {
   "cell_type": "code",
   "execution_count": 15,
   "metadata": {},
   "outputs": [],
   "source": [
    "gravity_on_planets = [0.378, 0.907, 1, 0.377, 2.36, 0.916, 0.889, 1.12]"
   ]
  },
  {
   "cell_type": "code",
   "execution_count": 16,
   "metadata": {},
   "outputs": [
    {
     "name": "stdout",
     "output_type": "stream",
     "text": [
      "On Earth, a double-decker bus weighs 124054 N\n",
      "On Mercury, a double-decker bus weighs 46892.412000000004 N\n"
     ]
    }
   ],
   "source": [
    "bus_weight = 124054 # in Newtons, on Earth\n",
    "\n",
    "print(\"On Earth, a double-decker bus weighs\", bus_weight, \"N\")\n",
    "print(\"On Mercury, a double-decker bus weighs\", bus_weight * gravity_on_planets[0], \"N\")"
   ]
  },
  {
   "cell_type": "code",
   "execution_count": 17,
   "metadata": {},
   "outputs": [
    {
     "name": "stdout",
     "output_type": "stream",
     "text": [
      "On Earth, a double-decker bus weighs 12650 N\n",
      "The lightest a bus would be in the solar system is 4769.05 N\n",
      "The heaviest a bus would be in the solar system is 29854.0 N\n"
     ]
    }
   ],
   "source": [
    "bus_weight = 12650 # in Newtons, on Earth\n",
    "\n",
    "print(\"On Earth, a double-decker bus weighs\", bus_weight, \"N\")\n",
    "print(\"The lightest a bus would be in the solar system is\", bus_weight * min(gravity_on_planets), \"N\")\n",
    "print(\"The heaviest a bus would be in the solar system is\", bus_weight * max(gravity_on_planets), \"N\")"
   ]
  },
  {
   "cell_type": "code",
   "execution_count": 18,
   "metadata": {},
   "outputs": [
    {
     "name": "stdout",
     "output_type": "stream",
     "text": [
      "The regular satellite moons of Jupiter are ['Adrastea', 'Amalthea', 'Callisto', 'Europa', 'Ganymede', 'Io', 'Metis', 'Thebe']\n"
     ]
    }
   ],
   "source": [
    "amalthea_group = [\"Metis\", \"Adrastea\", \"Amalthea\", \"Thebe\"]\n",
    "galilean_moons = [\"Io\", \"Europa\", \"Ganymede\", \"Callisto\"]\n",
    "\n",
    "regular_satellite_moons = amalthea_group + galilean_moons\n",
    "regular_satellite_moons.sort()\n",
    "print(\"The regular satellite moons of Jupiter are\", regular_satellite_moons)"
   ]
  },
  {
   "cell_type": "code",
   "execution_count": 20,
   "metadata": {},
   "outputs": [
    {
     "name": "stdout",
     "output_type": "stream",
     "text": [
      "['a', 'b', 'c']\n"
     ]
    }
   ],
   "source": [
    "# Create the variable for user input\n",
    "user_input = ''\n",
    "# Create the list to store the values\n",
    "inputs = []\n",
    "\n",
    "# The while loop\n",
    "while user_input.lower() != 'done':\n",
    "    # Check if there's a value in user_input\n",
    "    if user_input:\n",
    "        # Store the value in the list\n",
    "        inputs.append(user_input)\n",
    "    # Prompt for a new value\n",
    "    user_input = input('Enter a new value, or done when done')\n",
    "\n",
    "print(inputs)"
   ]
  },
  {
   "cell_type": "markdown",
   "metadata": {},
   "source": [
    "## for loop"
   ]
  },
  {
   "cell_type": "code",
   "execution_count": 21,
   "metadata": {},
   "outputs": [
    {
     "name": "stdout",
     "output_type": "stream",
     "text": [
      "4\n",
      "3\n",
      "2\n",
      "1\n",
      "0\n",
      "Blast off!! 🚀\n"
     ]
    }
   ],
   "source": [
    "countdown = [4, 3, 2, 1, 0]\n",
    "for number in countdown:\n",
    "    print(number)\n",
    "print(\"Blast off!! 🚀\")"
   ]
  },
  {
   "cell_type": "markdown",
   "metadata": {},
   "source": [
    "Let's change that code to wait for one second between each number by using the sleep() function:"
   ]
  },
  {
   "cell_type": "code",
   "execution_count": 22,
   "metadata": {},
   "outputs": [
    {
     "name": "stdout",
     "output_type": "stream",
     "text": [
      "4\n",
      "3\n",
      "2\n",
      "1\n",
      "0\n",
      "Blast off!! 🚀\n"
     ]
    }
   ],
   "source": [
    "from time import sleep\n",
    "\n",
    "countdown = [4, 3, 2, 1, 0]\n",
    "\n",
    "for number in countdown:\n",
    "    print(number)\n",
    "    sleep(1)  # Wait 1 second\n",
    "print(\"Blast off!! 🚀\")"
   ]
  },
  {
   "cell_type": "markdown",
   "metadata": {},
   "source": [
    "## Python dictionaries"
   ]
  },
  {
   "cell_type": "code",
   "execution_count": 23,
   "metadata": {},
   "outputs": [],
   "source": [
    "planet = {\n",
    "    'name': 'Earth',\n",
    "    'moons': 1\n",
    "}"
   ]
  },
  {
   "cell_type": "code",
   "execution_count": 25,
   "metadata": {},
   "outputs": [
    {
     "name": "stdout",
     "output_type": "stream",
     "text": [
      "Earth\n",
      "Earth\n"
     ]
    }
   ],
   "source": [
    "print(planet.get('name'))\n",
    "# planet['name'] is identical to using planet.get('name') just check first then show second, and [name] give error if not exist\n",
    "print(planet['name'])"
   ]
  },
  {
   "cell_type": "code",
   "execution_count": 26,
   "metadata": {},
   "outputs": [],
   "source": [
    "planet.update({\n",
    "    'name': 'Jupiter',\n",
    "    'moons': 79\n",
    "})"
   ]
  },
  {
   "cell_type": "code",
   "execution_count": 27,
   "metadata": {},
   "outputs": [],
   "source": [
    "planet['name'] = 'Jupiter'\n",
    "planet['moons'] = 79"
   ]
  },
  {
   "cell_type": "code",
   "execution_count": 28,
   "metadata": {},
   "outputs": [
    {
     "data": {
      "text/plain": [
       "{'name': 'Jupiter', 'moons': 79}"
      ]
     },
     "execution_count": 28,
     "metadata": {},
     "output_type": "execute_result"
    }
   ],
   "source": [
    "planet"
   ]
  },
  {
   "cell_type": "code",
   "execution_count": 29,
   "metadata": {},
   "outputs": [],
   "source": [
    "planet['diameter (km)'] = {\n",
    "    'polar': 133709,\n",
    "    'equatorial': 142984\n",
    "}"
   ]
  },
  {
   "cell_type": "code",
   "execution_count": 30,
   "metadata": {},
   "outputs": [
    {
     "data": {
      "text/plain": [
       "{'name': 'Jupiter',\n",
       " 'moons': 79,\n",
       " 'diameter (km)': {'polar': 133709, 'equatorial': 142984}}"
      ]
     },
     "execution_count": 30,
     "metadata": {},
     "output_type": "execute_result"
    }
   ],
   "source": [
    "planet"
   ]
  },
  {
   "cell_type": "code",
   "execution_count": 31,
   "metadata": {},
   "outputs": [
    {
     "name": "stdout",
     "output_type": "stream",
     "text": [
      "Jupiter polar diameter: 133709\n"
     ]
    }
   ],
   "source": [
    "print(f'{planet[\"name\"]} polar diameter: {planet[\"diameter (km)\"][\"polar\"]}')"
   ]
  },
  {
   "cell_type": "code",
   "execution_count": null,
   "metadata": {},
   "outputs": [],
   "source": []
  }
 ],
 "metadata": {
  "kernelspec": {
   "display_name": "py12",
   "language": "python",
   "name": "python3"
  },
  "language_info": {
   "codemirror_mode": {
    "name": "ipython",
    "version": 3
   },
   "file_extension": ".py",
   "mimetype": "text/x-python",
   "name": "python",
   "nbconvert_exporter": "python",
   "pygments_lexer": "ipython3",
   "version": "3.12.0"
  }
 },
 "nbformat": 4,
 "nbformat_minor": 2
}
