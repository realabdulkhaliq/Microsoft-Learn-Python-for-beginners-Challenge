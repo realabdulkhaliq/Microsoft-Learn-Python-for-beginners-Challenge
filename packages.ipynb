{
 "cells": [
  {
   "cell_type": "markdown",
   "metadata": {},
   "source": [
    "# Work with packages"
   ]
  },
  {
   "cell_type": "markdown",
   "metadata": {},
   "source": [
    "Create a virtual environment"
   ]
  },
  {
   "cell_type": "markdown",
   "metadata": {},
   "source": [
    "You create a virtual environment by calling the venv module. The module expects a name as an argument. You'll set up your own virtual environment in the next unit, so you don't need to run any of the following code.\n",
    "\n",
    "Take the following steps:\n",
    "\n",
    "Go to the directory where you want to keep your project.\n",
    "\n",
    "Use the following command to call the venv module."
   ]
  },
  {
   "cell_type": "markdown",
   "metadata": {},
   "source": [
    "`python -m venv env`"
   ]
  },
  {
   "cell_type": "markdown",
   "metadata": {},
   "source": [
    "Your environment needs the env directory to keep track of details like which version of Python and which libraries you're using. Don't put your program files in the env directory. We suggest that you put your files in a directory called src or something similar. The project structure might then look like this:"
   ]
  },
  {
   "cell_type": "markdown",
   "metadata": {},
   "source": [
    "`/env`\n",
    "\n",
    "`/src/\n",
    "  program.py`"
   ]
  },
  {
   "cell_type": "markdown",
   "metadata": {},
   "source": [
    "### Activate the virtual environment\n",
    "\n",
    "At this point, you have a virtual environment but you haven't started using it. To use it, you need to activate it by calling an activate script."
   ]
  },
  {
   "cell_type": "markdown",
   "metadata": {},
   "source": [
    "`C:\\ .. \\env\\Scripts\\activate` In Windows\n",
    "\n",
    "`source env/bin/activate` In Linux MacOS"
   ]
  },
  {
   "cell_type": "markdown",
   "metadata": {},
   "source": [
    "Install a package"
   ]
  },
  {
   "cell_type": "markdown",
   "metadata": {},
   "source": [
    "`pip install python-dateutil`"
   ]
  },
  {
   "cell_type": "markdown",
   "metadata": {},
   "source": [
    "Run `pip freeze` to see installed libraries in your environment"
   ]
  },
  {
   "cell_type": "markdown",
   "metadata": {},
   "source": [
    "Deactivate a virtual environment"
   ]
  },
  {
   "cell_type": "markdown",
   "metadata": {},
   "source": [
    "`deactivate`"
   ]
  },
  {
   "cell_type": "markdown",
   "metadata": {},
   "source": [
    "## Share a project"
   ]
  },
  {
   "cell_type": "markdown",
   "metadata": {},
   "source": [
    "To share your project in GitHub so that others can work on it, you would take the following steps:\n",
    "\n",
    "1. Call pip freeze > requirements.txt. This command creates a requirements.txt file with all the packages that the program needs.\n",
    "2. Create a .gitignore file, and check in your application code and requirements.txt.\n",
    "3. Check in the code to GitHub."
   ]
  },
  {
   "cell_type": "markdown",
   "metadata": {},
   "source": [
    "## Consume a project"
   ]
  },
  {
   "cell_type": "markdown",
   "metadata": {},
   "source": [
    "To consume a project as a contributor (a fellow developer), you would take the following steps:\n",
    "\n",
    "1. Fetch the project from GitHub.\n",
    "2. Create a virtual environment and place yourself in it.\n",
    "3. Restore the project by using pip install -r requirements.txt. It will look for requirements.txt and fetch and install the packages listed for that file.\n",
    "4. Run your app."
   ]
  },
  {
   "cell_type": "markdown",
   "metadata": {},
   "source": [
    "### Apply an update strategy"
   ]
  },
  {
   "cell_type": "markdown",
   "metadata": {},
   "source": [
    "Packages use something called semantic versioning. This means that if you look at a number like version \"1.2.3,\" you can break down that number:\n",
    "\n",
    "Major |\tMinor |\tPatch\n",
    "----- | ----- | -----\n",
    "1 |\t2 |\t3"
   ]
  },
  {
   "cell_type": "markdown",
   "metadata": {},
   "source": [
    "Clean up unused packages\n",
    "Sometimes, you might realize that you no longer need a certain Python package and you want to remove it. For such a case, you can use `pip uninstall`"
   ]
  },
  {
   "cell_type": "markdown",
   "metadata": {},
   "source": [
    "Then remove all the packages in that list, like this:\n",
    "\n",
    "`pip uninstall -r requirements.txt -y`"
   ]
  }
 ],
 "metadata": {
  "kernelspec": {
   "display_name": "py12",
   "language": "python",
   "name": "python3"
  },
  "language_info": {
   "codemirror_mode": {
    "name": "ipython",
    "version": 3
   },
   "file_extension": ".py",
   "mimetype": "text/x-python",
   "name": "python",
   "nbconvert_exporter": "python",
   "pygments_lexer": "ipython3",
   "version": "3.12.0"
  }
 },
 "nbformat": 4,
 "nbformat_minor": 2
}
